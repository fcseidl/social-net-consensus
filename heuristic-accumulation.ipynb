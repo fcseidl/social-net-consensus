{
 "cells": [
  {
   "cell_type": "code",
   "execution_count": null,
   "metadata": {},
   "outputs": [],
   "source": [
    "import numpy as np\n",
    "import matplotlib.pyplot as plt"
   ]
  },
  {
   "attachments": {},
   "cell_type": "markdown",
   "metadata": {},
   "source": [
    "### Adjacency Matrix"
   ]
  },
  {
   "cell_type": "code",
   "execution_count": null,
   "metadata": {},
   "outputs": [],
   "source": [
    "n = 100\n",
    "dt = 0.001\n",
    "T = 1000\n",
    "\n",
    "# default, connected\n",
    "A = np.ones((n,n))\n",
    "\n",
    "# Erdos Renyi\n",
    "p = .05\n",
    "A = np.random.rand(n,n) # random matrix\n",
    "A = np.where(A < p, 1, 0) # adjacency matrix\n",
    "A = np.triu(A, 1) # triangular matrix\n",
    "A = A + A.T # symmetric matrix\n",
    "\n",
    "# # Small World\n",
    "# A = np.zeros((n,n))\n",
    "# for i in range(n):\n",
    "#     for j in range(n):\n",
    "#         if i == j:\n",
    "#             continue\n",
    "#         if np.abs(i-j) < 5:\n",
    "#             A[i,j] = 1\n",
    "#         elif np.abs(i-j) > n-5:\n",
    "#             A[i,j] = 1\n",
    "#         else:\n",
    "#             A[i,j] = 0\n",
    "\n",
    "# plot\n",
    "plt.imshow(A)\n",
    "plt.show()"
   ]
  },
  {
   "attachments": {},
   "cell_type": "markdown",
   "metadata": {},
   "source": [
    "### Information Accumulation Process"
   ]
  },
  {
   "cell_type": "code",
   "execution_count": null,
   "metadata": {},
   "outputs": [],
   "source": []
  }
 ],
 "metadata": {
  "language_info": {
   "name": "python"
  },
  "orig_nbformat": 4
 },
 "nbformat": 4,
 "nbformat_minor": 2
}
