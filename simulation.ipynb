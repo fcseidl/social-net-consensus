{
 "cells": [
  {
   "cell_type": "code",
   "execution_count": 1,
   "metadata": {},
   "outputs": [],
   "source": [
    "import numpy as np\n",
    "import matplotlib.pyplot as plt"
   ]
  },
  {
   "cell_type": "code",
   "execution_count": 24,
   "metadata": {},
   "outputs": [
    {
     "data": {
      "image/png": "[encoded data removed]",
      "text/plain": [
       "<Figure size 640x480 with 1 Axes>"
      ]
     },
     "metadata": {},
     "output_type": "display_data"
    }
   ],
   "source": [
    "# create an erdos-renyi graph matrix\n",
    "n = 100\n",
    "p = .01\n",
    "dt = 0.001\n",
    "T = 1000\n",
    "\n",
    "# Erdos Renyi\n",
    "A = np.random.rand(n,n) # random matrix\n",
    "A = np.where(A < p, 1, 0) # adjacency matrix\n",
    "A = np.triu(A, 1) # triangular matrix\n",
    "A = A + A.T # symmetric matrix\n",
    "\n",
    "# # Small World\n",
    "# A = np.zeros((n,n))\n",
    "# for i in range(n):\n",
    "#     for j in range(n):\n",
    "#         if i == j:\n",
    "#             continue\n",
    "#         if np.abs(i-j) < 5:\n",
    "#             A[i,j] = 1\n",
    "#         elif np.abs(i-j) > n-5:\n",
    "#             A[i,j] = 1\n",
    "#         else:\n",
    "#             A[i,j] = 0\n",
    "\n",
    "# plot\n",
    "plt.imshow(A)\n",
    "plt.show()"
   ]
  },
  {
   "cell_type": "code",
   "execution_count": 27,
   "metadata": {},
   "outputs": [
    {
     "name": "stdout",
     "output_type": "stream",
     "text": [
      "[        inf         inf        -inf         inf         inf         inf\n",
      "         inf         inf         inf        -inf         inf        -inf\n",
      "        -inf        -inf        -inf        -inf         inf        -inf\n",
      " -0.07776615        -inf        -inf        -inf  0.13765966        -inf\n",
      "        -inf         inf        -inf        -inf         inf         inf\n",
      "         inf         inf        -inf        -inf         inf         inf\n",
      "         inf        -inf         inf        -inf        -inf        -inf\n",
      "        -inf         inf        -inf        -inf        -inf         inf\n",
      "        -inf        -inf        -inf        -inf        -inf        -inf\n",
      "         inf        -inf        -inf        -inf         inf        -inf\n",
      "         inf        -inf        -inf        -inf        -inf        -inf\n",
      "         inf        -inf        -inf  0.03513643        -inf        -inf\n",
      "        -inf         inf         inf        -inf        -inf        -inf\n",
      "        -inf         inf         inf        -inf        -inf        -inf\n",
      "         inf         inf         inf        -inf        -inf         inf\n",
      " -0.80127481         inf        -inf        -inf        -inf        -inf\n",
      "         inf        -inf -0.83191031         inf]\n"
     ]
    }
   ],
   "source": [
    "# drift\n",
    "mu = np.random.randn(n)\n",
    "\n",
    "# diffusion\n",
    "sigma = np.ones(n)\n",
    "\n",
    "# initial conditions\n",
    "x = np.zeros((T,n))\n",
    "\n",
    "kp = np.zeros(n)\n",
    "km = np.zeros(n)\n",
    "\n",
    "# simulate\n",
    "for t in range(T-1):\n",
    "    x[t+1,:] = x[t,:] + mu*dt + np.sqrt(2*dt)*np.random.randn(n) + kp.dot(A) - km.dot(A)\n",
    "    # set kick of other processes\n",
    "    kp = x[t+1,:] < np.inf\n",
    "    kp = x[t+1,:] > 1\n",
    "    km = x[t+1,:] > -np.inf\n",
    "    km = x[t+1,:] < -1\n",
    "    x[t+1,:] = np.where(x[t+1,:] > 1, np.inf, x[t+1,:])\n",
    "    x[t+1,:] = np.where(x[t+1,:] < -1, -np.inf, x[t+1,:])\n",
    "    \n",
    "\n",
    "print(x[-1,:])\n"
   ]
  },
  {
   "cell_type": "code",
   "execution_count": 22,
   "metadata": {},
   "outputs": [
    {
     "name": "stdout",
     "output_type": "stream",
     "text": [
      "[inf inf inf inf inf inf inf inf inf inf inf inf inf inf inf inf inf inf\n",
      " inf inf inf inf inf inf inf inf inf inf inf inf inf inf inf inf inf inf\n",
      " inf inf inf inf inf inf inf inf inf inf inf inf inf inf inf inf inf inf\n",
      " inf inf inf inf inf inf inf inf inf inf inf inf inf inf inf inf inf inf\n",
      " inf inf inf inf inf inf inf inf inf inf inf inf inf inf inf inf inf inf\n",
      " inf inf inf inf inf inf inf inf inf inf]\n"
     ]
    }
   ],
   "source": [
    "print(x[100,:])"
   ]
  },
  {
   "cell_type": "code",
   "execution_count": null,
   "metadata": {},
   "outputs": [],
   "source": []
  }
 ],
 "metadata": {
  "kernelspec": {
   "display_name": "base",
   "language": "python",
   "name": "python3"
  },
  "language_info": {
   "codemirror_mode": {
    "name": "ipython",
    "version": 3
   },
   "file_extension": ".py",
   "mimetype": "text/x-python",
   "name": "python",
   "nbconvert_exporter": "python",
   "pygments_lexer": "ipython3",
   "version": "3.10.12"
  },
  "orig_nbformat": 4
 },
 "nbformat": 4,
 "nbformat_minor": 2
}
