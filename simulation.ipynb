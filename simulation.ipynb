{
 "cells": [
  {
   "cell_type": "code",
   "execution_count": 2,
   "metadata": {},
   "outputs": [],
   "source": [
    "import numpy as np\n",
    "import matplotlib.pyplot as plt"
   ]
  },
  {
   "cell_type": "code",
   "execution_count": 34,
   "metadata": {},
   "outputs": [
    {
     "data": {
      "image/png": "[encoded data removed]",
      "text/plain": [
       "<Figure size 640x480 with 1 Axes>"
      ]
     },
     "metadata": {},
     "output_type": "display_data"
    }
   ],
   "source": [
    "# create an erdos-renyi graph matrix\n",
    "n = 100\n",
    "p = .1\n",
    "dt = 0.001\n",
    "T = 1000\n",
    "\n",
    "# Erdos Renyi\n",
    "A = np.random.rand(n,n) # random matrix\n",
    "A = np.where(A < p, 1, 0) # adjacency matrix\n",
    "A = np.triu(A, 1) # triangular matrix\n",
    "\n",
    "# # Small World\n",
    "# A = np.zeros((n,n))\n",
    "# for i in range(n):\n",
    "#     for j in range(n):\n",
    "#         if i == j:\n",
    "#             continue\n",
    "#         if np.abs(i-j) < 5:\n",
    "#             A[i,j] = 1\n",
    "#         elif np.abs(i-j) > n-5:\n",
    "#             A[i,j] = 1\n",
    "#         else:\n",
    "#             A[i,j] = 0\n",
    "\n",
    "\n",
    "#Code for Creating a Barbell Model for Population Dynamics\n",
    "#pop = np.random.randint(25,75) #minimum and maximum population sizes\n",
    "#A = np.zeros((n,n))\n",
    "#for i in range(n):\n",
    "#   for j in range(n):\n",
    "#        if i == j:\n",
    "#            A[i,j] = 0\n",
    "#        elif (i <= pop and j <= pop) or (i > pop and j > pop):\n",
    "#            A[i,j] = 1\n",
    "#        else:\n",
    "#            A[i,j] = 0\n",
    "#sender = np.random.randint(0,pop+1)\n",
    "#receiver = np.random.randint(pop+1,99)\n",
    "#A[sender,receiver] = 1\n",
    "#A[receiver,sender] = 1\n",
    "\n",
    "# plot\n",
    "plt.imshow(A)\n",
    "plt.show()"
   ]
  },
  {
   "cell_type": "code",
   "execution_count": 38,
   "metadata": {},
   "outputs": [
    {
     "name": "stdout",
     "output_type": "stream",
     "text": [
      "[-0.29961131 -0.06544883  0.53497438 -0.24906145        -inf -0.21831205\n",
      "  0.43833627  0.01569282  0.69284713 -0.62779958 -0.00769803 -0.07402782\n",
      " -0.18197794  0.18151294  0.47897716  0.1048096   0.22587846 -0.22388397\n",
      " -0.20493084 -0.21776619  0.87286711  0.01172022 -0.16329595         inf\n",
      "         inf         inf -0.21971395 -0.14223614        -inf        -inf\n",
      "  0.55580258 -0.46091378        -inf -0.17306848        -inf        -inf\n",
      "        -inf -0.16404336        -inf        -inf        -inf         inf\n",
      "  0.40648114        -inf -0.30660089        -inf        -inf        -inf\n",
      "        -inf        -inf        -inf        -inf  0.24382724        -inf\n",
      "        -inf        -inf -0.08262773        -inf        -inf        -inf\n",
      "         inf        -inf        -inf        -inf        -inf        -inf\n",
      "        -inf        -inf        -inf        -inf        -inf        -inf\n",
      "        -inf        -inf        -inf        -inf        -inf        -inf\n",
      "        -inf        -inf        -inf        -inf        -inf        -inf\n",
      "        -inf        -inf        -inf        -inf        -inf        -inf\n",
      "        -inf        -inf        -inf        -inf        -inf        -inf\n",
      "         inf         inf        -inf        -inf]\n"
     ]
    }
   ],
   "source": [
    "# drift\n",
    "mu = np.random.randn(n)\n",
    "\n",
    "# diffusion\n",
    "sigma = np.ones(n)\n",
    "\n",
    "# initial conditions\n",
    "x = np.zeros((T,n))\n",
    "\n",
    "kp = np.zeros(n)\n",
    "km = np.zeros(n)\n",
    "\n",
    "# simulate\n",
    "for t in range(T-1):\n",
    "    x[t+1,:] = x[t,:] + mu*dt + np.sqrt(2*dt)*np.random.randn(n) + kp.dot(A) - km.dot(A)\n",
    "    # set kick of other processes\n",
    "    kp = x[t+1,:] < np.inf\n",
    "    kp = x[t+1,:] > 1\n",
    "    km = x[t+1,:] > -np.inf\n",
    "    km = x[t+1,:] < -1\n",
    "    x[t+1,:] = np.where(x[t+1,:] > 1, np.inf, x[t+1,:])\n",
    "    x[t+1,:] = np.where(x[t+1,:] < -1, -np.inf, x[t+1,:])\n",
    "    \n",
    "\n",
    "print(x[100,:])\n"
   ]
  },
  {
   "cell_type": "code",
   "execution_count": null,
   "metadata": {},
   "outputs": [],
   "source": []
  }
 ],
 "metadata": {
  "kernelspec": {
   "display_name": "Python 3 (ipykernel)",
   "language": "python",
   "name": "python3"
  },
  "language_info": {
   "codemirror_mode": {
    "name": "ipython",
    "version": 3
   },
   "file_extension": ".py",
   "mimetype": "text/x-python",
   "name": "python",
   "nbconvert_exporter": "python",
   "pygments_lexer": "ipython3",
   "version": "3.8.8"
  }
 },
 "nbformat": 4,
 "nbformat_minor": 2
}
